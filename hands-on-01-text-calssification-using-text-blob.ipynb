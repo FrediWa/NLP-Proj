{
 "cells": [
  {
   "cell_type": "markdown",
   "metadata": {},
   "source": [
    "# Hands-on Exercise 01 - Text Classification using NaiveBayesClassifier from textblob\n",
    "\n",
    "Source: https://textblob.readthedocs.io/en/dev/classifiers.html\n",
    "\n",
    "adapted by Raghava Mukkamala \n",
    "\n",
    "\n",
    "https://textblob.readthedocs.io/en/dev/install.html"
   ]
  },
  {
   "cell_type": "code",
   "execution_count": 5,
   "metadata": {},
   "outputs": [],
   "source": [
    "import collections\n",
    "from textblob.classifiers import NaiveBayesClassifier\n",
    "from textblob import TextBlob\n",
    "from prettytable import PrettyTable\n",
    "from nltk import precision\n",
    "import nltk.metrics"
   ]
  },
  {
   "cell_type": "markdown",
   "metadata": {},
   "source": [
    "## Preparing training set for sentiment"
   ]
  },
  {
   "cell_type": "code",
   "execution_count": 6,
   "metadata": {},
   "outputs": [],
   "source": [
    "train = [\n",
    "    ('I love this sandwich.', 'pos'),\n",
    "    ('This is an amazing place!', 'pos'),\n",
    "    ('I feel very good about these beers.', 'pos'),\n",
    "    ('This is my best work.', 'pos'),\n",
    "    (\"What an awesome view\", 'pos'),\n",
    "    ('I do not like this restaurant', 'neg'),\n",
    "    ('I am tired of this stuff.', 'neg'),\n",
    "    (\"I can't deal with this\", 'neg'),\n",
    "    ('He is my sworn enemy!', 'neg'),\n",
    "    ('My boss is horrible.', 'neg')\n",
    "]\n"
   ]
  },
  {
   "cell_type": "markdown",
   "metadata": {},
   "source": [
    "## Build the NaiveBayesClassifier using training set\n"
   ]
  },
  {
   "cell_type": "code",
   "execution_count": 7,
   "metadata": {},
   "outputs": [
    {
     "name": "stdout",
     "output_type": "stream",
     "text": [
      "classifier accuracy: 0.8333333333333334\n"
     ]
    }
   ],
   "source": [
    "cls = NaiveBayesClassifier(train)\n",
    "\n",
    "test = [\n",
    "    ('The beer was good.', 'pos'),\n",
    "    ('I do not enjoy my job', 'neg'),\n",
    "    (\"I ain't feeling dandy today.\", 'neg'),\n",
    "    (\"I feel amazing!\", 'pos'),\n",
    "    ('Gary is a friend of mine.', 'pos'),\n",
    "    (\"I can't believe I'm doing this.\", 'neg')\n",
    "]\n",
    "\n",
    "print('classifier accuracy:', cls.accuracy(test))\n",
    "\n"
   ]
  },
  {
   "cell_type": "markdown",
   "metadata": {},
   "source": [
    "## Agreement between  human labels and classifier predictions "
   ]
  },
  {
   "cell_type": "code",
   "execution_count": 8,
   "metadata": {},
   "outputs": [
    {
     "name": "stdout",
     "output_type": "stream",
     "text": [
      "+---------------------------------+-------------+-----------------------+\n",
      "|               text              | human label | classifier prediction |\n",
      "+---------------------------------+-------------+-----------------------+\n",
      "|        The beer was good.       |     pos     |          pos          |\n",
      "|      I do not enjoy my job      |     neg     |          neg          |\n",
      "|   I ain't feeling dandy today.  |     neg     |          neg          |\n",
      "|         I feel amazing!         |     pos     |          pos          |\n",
      "|    Gary is a friend of mine.    |     pos     |          neg          |\n",
      "| I can't believe I'm doing this. |     neg     |          neg          |\n",
      "+---------------------------------+-------------+-----------------------+\n"
     ]
    }
   ],
   "source": [
    "tab = PrettyTable(['text', 'human label', 'classifier prediction'])\n",
    "\n",
    "predicted_labels = collections.defaultdict(set)\n",
    "\n",
    "actual_labels = collections.defaultdict(set)\n",
    "\n",
    "i = 0\n",
    "for (text, label) in test:\n",
    "    predicted = cls.classify(text)\n",
    "    tab.add_row([text, label, predicted])\n",
    "    actual_labels[label].add(i)\n",
    "    predicted_labels[predicted].add(i)\n",
    "    i+=1\n",
    "\n",
    "\n",
    "print(tab)    \n"
   ]
  },
  {
   "cell_type": "markdown",
   "metadata": {},
   "source": [
    "## Performance measures"
   ]
  },
  {
   "cell_type": "code",
   "execution_count": 9,
   "metadata": {},
   "outputs": [
    {
     "name": "stdout",
     "output_type": "stream",
     "text": [
      "+-------+-----------+--------------------+--------------------+\n",
      "| Label | precision |       recall       |     f-measure      |\n",
      "+-------+-----------+--------------------+--------------------+\n",
      "|  pos  |    1.0    | 0.6666666666666666 |        0.8         |\n",
      "|  neg  |    0.75   |        1.0         | 0.8571428571428572 |\n",
      "+-------+-----------+--------------------+--------------------+\n"
     ]
    }
   ],
   "source": [
    "\n",
    "tab2 = PrettyTable(['Label', 'precision', 'recall', 'f-measure'])\n",
    "\n",
    "for label in actual_labels:\n",
    "    tab2.add_row([label, nltk.precision(actual_labels[label], predicted_labels[label]), \n",
    "                nltk.recall(actual_labels[label], predicted_labels[label]),\n",
    "                nltk.f_measure(actual_labels[label], predicted_labels[label])])\n",
    "    \n",
    "print(tab2)\n",
    "    \n",
    "\n"
   ]
  },
  {
   "cell_type": "markdown",
   "metadata": {},
   "source": [
    "## Printing most informative measures"
   ]
  },
  {
   "cell_type": "code",
   "execution_count": 10,
   "metadata": {},
   "outputs": [
    {
     "name": "stdout",
     "output_type": "stream",
     "text": [
      "Most Informative Features\n",
      "          contains(this) = True              neg : pos    =      2.3 : 1.0\n",
      "          contains(this) = False             pos : neg    =      1.8 : 1.0\n",
      "          contains(This) = False             neg : pos    =      1.6 : 1.0\n",
      "            contains(an) = False             neg : pos    =      1.6 : 1.0\n",
      "             contains(I) = False             pos : neg    =      1.4 : 1.0\n",
      "             contains(I) = True              neg : pos    =      1.4 : 1.0\n",
      "            contains(He) = False             pos : neg    =      1.2 : 1.0\n",
      "            contains(My) = False             pos : neg    =      1.2 : 1.0\n",
      "          contains(What) = False             neg : pos    =      1.2 : 1.0\n",
      "         contains(about) = False             neg : pos    =      1.2 : 1.0\n",
      "            contains(am) = False             pos : neg    =      1.2 : 1.0\n",
      "       contains(amazing) = False             neg : pos    =      1.2 : 1.0\n",
      "       contains(awesome) = False             neg : pos    =      1.2 : 1.0\n",
      "         contains(beers) = False             neg : pos    =      1.2 : 1.0\n",
      "          contains(best) = False             neg : pos    =      1.2 : 1.0\n",
      "          contains(boss) = False             pos : neg    =      1.2 : 1.0\n",
      "            contains(ca) = False             pos : neg    =      1.2 : 1.0\n",
      "          contains(deal) = False             pos : neg    =      1.2 : 1.0\n",
      "            contains(do) = False             pos : neg    =      1.2 : 1.0\n",
      "         contains(enemy) = False             pos : neg    =      1.2 : 1.0\n"
     ]
    }
   ],
   "source": [
    " cls.show_informative_features(20)  "
   ]
  },
  {
   "cell_type": "markdown",
   "metadata": {},
   "source": [
    "## Test the classifier on new data"
   ]
  },
  {
   "cell_type": "code",
   "execution_count": 19,
   "metadata": {},
   "outputs": [
    {
     "name": "stdout",
     "output_type": "stream",
     "text": [
      "label for:\"my boss appreciated me.\"  neg\n"
     ]
    }
   ],
   "source": [
    "\n",
    "# print('label for:\"Their burgers are amazing\" ', cls.classify(\"Their burgers are amazing\"))\n",
    "\n",
    "# print('label for:\"I dont like their pizza.\" ', cls.classify(\"I don't like their pizza.\"))\n",
    "\n",
    "print('label for:\"my boss appreciated me.\" ', cls.classify(\"my boss appreciated me\"))\n"
   ]
  },
  {
   "cell_type": "markdown",
   "metadata": {},
   "source": [
    "## <font color='red'>Handson Exercise - 01:</font>\n",
    "\n",
    "    Build a simple Naive Bayes Classifier for a mini set of Emotions (e.g. fear, happiness, and sadness) using\n",
    "    TextBlob library. You can prepare a simple training set yourselves in the similar lines of the above \n",
    "    example."
   ]
  },
  {
   "cell_type": "code",
   "execution_count": 12,
   "metadata": {},
   "outputs": [],
   "source": [
    "# Code for Exercise - 01:\n",
    "\n",
    "emotion_labels = ['anger', 'happiness', 'sadness']\n",
    "\n",
    "train2 = [\n",
    "    ('I love this sandwich.', 'happiness'),\n",
    "    ('This is an amazing place!', 'happiness'),\n",
    "    ('I feel very good about these beers.', 'happiness'),\n",
    "    ('This is my best work.', 'happiness'),\n",
    "    (\"What an awesome view\", 'happiness'),\n",
    "    ('I do not like this', 'sadness'),\n",
    "    ('I am tired of this stuff.', 'sadness'),\n",
    "    (\"I can't deal with this\", 'sadness'),\n",
    "    ('He is my sworn enemy!', 'anger'),\n",
    "    ('My boss is horrible.', 'anger'),\n",
    "    ('The beer was good.', 'happiness'),\n",
    "    ('I do not enjoy my job', 'sadness'),\n",
    "    (\"I ain't feeling dandy today.\", 'neg'),\n",
    "    (\"I feel amazing!\", 'happiness'),\n",
    "    ('Gary is a friend of mine.', 'happiness'),\n",
    "    (\"I can't believe I'm doing this.\", 'sadness')\n",
    "]"
   ]
  },
  {
   "cell_type": "code",
   "execution_count": 13,
   "outputs": [],
   "source": [
    "cls = NaiveBayesClassifier(train2)"
   ],
   "metadata": {
    "collapsed": false,
    "pycharm": {
     "name": "#%%\n"
    }
   }
  },
  {
   "cell_type": "code",
   "execution_count": 20,
   "outputs": [
    {
     "data": {
      "text/plain": "'happiness'"
     },
     "execution_count": 20,
     "metadata": {},
     "output_type": "execute_result"
    }
   ],
   "source": [
    "cls.classify(\"Feeling like shit\")"
   ],
   "metadata": {
    "collapsed": false,
    "pycharm": {
     "name": "#%%\n"
    }
   }
  },
  {
   "cell_type": "code",
   "execution_count": null,
   "outputs": [],
   "source": [],
   "metadata": {
    "collapsed": false,
    "pycharm": {
     "name": "#%%\n"
    }
   }
  }
 ],
 "metadata": {
  "kernelspec": {
   "display_name": "Python 3",
   "language": "python",
   "name": "python3"
  },
  "language_info": {
   "codemirror_mode": {
    "name": "ipython",
    "version": 3
   },
   "file_extension": ".py",
   "mimetype": "text/x-python",
   "name": "python",
   "nbconvert_exporter": "python",
   "pygments_lexer": "ipython3",
   "version": "3.8.8"
  }
 },
 "nbformat": 4,
 "nbformat_minor": 2
}