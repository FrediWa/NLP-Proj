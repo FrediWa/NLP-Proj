{
 "cells": [
  {
   "cell_type": "code",
   "execution_count": 1,
   "metadata": {
    "collapsed": true
   },
   "outputs": [],
   "source": [
    "import pandas as pd\n",
    "import nltk"
   ]
  },
  {
   "cell_type": "code",
   "execution_count": 5,
   "outputs": [],
   "source": [
    "df = pd.read_excel('Diabetes-classification.xlsx', sheet_name='Emotions')"
   ],
   "metadata": {
    "collapsed": false,
    "pycharm": {
     "name": "#%%\n"
    }
   }
  },
  {
   "cell_type": "code",
   "execution_count": 19,
   "outputs": [
    {
     "name": "stdout",
     "output_type": "stream",
     "text": [
      "                                     discussion_text    Label\n",
      "0   ...been on a low-carb diet my blood glucose h...    Trust\n",
      "1  A major problem with the American diet is too ...  Disgust\n",
      "2  Everybody knows that being fat leads to Type 2...    Trust\n",
      "3  For example  this diet could help reduce prost...  Disgust\n",
      "4  Hi everyone I have T2 diabetes and was diagnos...  Disgust\n"
     ]
    }
   ],
   "source": [
    "data = df[[\"discussion_text\", \"Label\"]]\n",
    "print(data.head())\n"
   ],
   "metadata": {
    "collapsed": false,
    "pycharm": {
     "name": "#%%\n"
    }
   }
  },
  {
   "cell_type": "code",
   "execution_count": 36,
   "outputs": [],
   "source": [
    "# Set training data to the second half and testing data to the first half\n",
    "training_data, testing_data = data[1693:], data[:1693]"
   ],
   "metadata": {
    "collapsed": false,
    "pycharm": {
     "name": "#%%\n"
    }
   }
  }
 ],
 "metadata": {
  "kernelspec": {
   "display_name": "Python 3",
   "language": "python",
   "name": "python3"
  },
  "language_info": {
   "codemirror_mode": {
    "name": "ipython",
    "version": 2
   },
   "file_extension": ".py",
   "mimetype": "text/x-python",
   "name": "python",
   "nbconvert_exporter": "python",
   "pygments_lexer": "ipython2",
   "version": "2.7.6"
  }
 },
 "nbformat": 4,
 "nbformat_minor": 0
}